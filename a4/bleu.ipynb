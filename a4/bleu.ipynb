{
 "cells": [
  {
   "cell_type": "code",
   "execution_count": 1,
   "metadata": {},
   "outputs": [],
   "source": [
    "from nltk.translate.bleu_score import sentence_bleu as sb"
   ]
  },
  {
   "cell_type": "code",
   "execution_count": 2,
   "metadata": {},
   "outputs": [],
   "source": [
    "# Reference Translations\n",
    "r1 = \"love can always find a way\".split()\n",
    "r2 = \"love makes anything possible\".split()\n",
    "\n",
    "# NMT Translations\n",
    "c1 = \"the love can always do\".split()\n",
    "c2 = \"love can make anything possible\".split()"
   ]
  },
  {
   "cell_type": "code",
   "execution_count": 3,
   "metadata": {},
   "outputs": [
    {
     "name": "stdout",
     "output_type": "stream",
     "text": [
      "BLEU Score for c1 0.5477225575051662\n",
      "BLEU Score for c2 0.6324555320336759\n"
     ]
    }
   ],
   "source": [
    "print(f\"BLEU Score for c1 {sb([r1, r2], c1, weights=[0.5, 0.5])}\")\n",
    "print(f\"BLEU Score for c2 {sb([r1, r2], c2, weights=[0.5, 0.5])}\")"
   ]
  },
  {
   "cell_type": "code",
   "execution_count": null,
   "metadata": {},
   "outputs": [],
   "source": []
  },
  {
   "cell_type": "code",
   "execution_count": 4,
   "metadata": {},
   "outputs": [
    {
     "name": "stdout",
     "output_type": "stream",
     "text": [
      "BLEU Score for c1 0.448437301984003\n",
      "BLEU Score for c2 0.25890539701513365\n"
     ]
    }
   ],
   "source": [
    "print(f\"BLEU Score for c1 {sb([r1], c1, weights=[0.5, 0.5])}\")\n",
    "print(f\"BLEU Score for c2 {sb([r1], c2, weights=[0.5, 0.5])}\")"
   ]
  },
  {
   "cell_type": "code",
   "execution_count": null,
   "metadata": {},
   "outputs": [],
   "source": []
  }
 ],
 "metadata": {
  "kernelspec": {
   "display_name": "cs224n",
   "language": "python",
   "name": "python3"
  },
  "language_info": {
   "codemirror_mode": {
    "name": "ipython",
    "version": 3
   },
   "file_extension": ".py",
   "mimetype": "text/x-python",
   "name": "python",
   "nbconvert_exporter": "python",
   "pygments_lexer": "ipython3",
   "version": "3.9.16"
  },
  "orig_nbformat": 4
 },
 "nbformat": 4,
 "nbformat_minor": 2
}
